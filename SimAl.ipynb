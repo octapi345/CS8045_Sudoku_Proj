{
 "cells": [
  {
   "cell_type": "code",
   "execution_count": 104,
   "id": "acfa2d6c",
   "metadata": {},
   "outputs": [],
   "source": [
    "import numpy as np\n",
    "from collections import Counter\n",
    "import Sudoku\n",
    "\n",
    "\n",
    "\n",
    "def available_numbers(master, taken):\n",
    "    master_arr = np.array([i for i in range(1, 10) for _ in range(9)])\n",
    "    clue_arr = np.array([[1,2,3],[3,3,3],[3,3,3]]).flatten()\n",
    "    clueCount = Counter(clue_arr)\n",
    "    fullCount = Counter(master_arr)\n",
    "    remainCount = fullCount - clueCount\n",
    "    result = np.array([val for val, cnt in remainCount.items() for _ in range(cnt)])\n",
    "    return result\n",
    "    \n",
    "\n",
    "class SimulatedAnnealing:\n",
    "    def __init__(self, sudoku_init, t_sched = None):\n",
    "        self.grid = np.array(sudoku_init.board)\n",
    "        self.fixed = np.array(sudoku_init.fixed)\n",
    "        self.can_swap = ~self.fixed\n",
    "        self.possible_numbers = available_numbers(np.array([i for i in range(1, 10) for _ in range(9)]), self.grid.flatten())\n",
    "        self.populate()\n",
    "        \n",
    "        \n",
    "        \n",
    "    def populate(self):\n",
    "        poss_nums = self.possible_numbers.copy()\n",
    "        np.random.shuffle(poss_nums)\n",
    "        mask = self.can_swap.copy()\n",
    "        mask.flatten()\n",
    "        expanded = np.zeros(mask.shape, dtype=int)\n",
    "        #self.grid[self.can_swap] = poss_nums\n",
    "        expanded[mask] = poss_nums[:mask.sum()]\n",
    "        self.grid+=expanded\n",
    "        print(self.grid)\n",
    "        \n",
    "    def swap(self):\n",
    "        pass\n",
    "        \n",
    "        "
   ]
  },
  {
   "cell_type": "code",
   "execution_count": 111,
   "id": "b2df7788",
   "metadata": {},
   "outputs": [
    {
     "name": "stdout",
     "output_type": "stream",
     "text": [
      "[[5 7 4 2 5 3 1 4 3]\n",
      " [6 4 9 7 7 9 6 1 6]\n",
      " [8 1 4 6 3 4 9 7 1]\n",
      " [2 9 4 3 5 2 7 8 2]\n",
      " [3 5 8 4 6 9 7 2 5]\n",
      " [8 9 8 8 2 2 5 3 6]\n",
      " [6 8 8 5 7 5 7 9 1]\n",
      " [9 2 2 1 4 4 2 1 5]\n",
      " [8 7 7 7 4 8 8 6 2]]\n"
     ]
    },
    {
     "data": {
      "text/plain": [
       "<__main__.SimulatedAnnealing at 0x113c467d0>"
      ]
     },
     "execution_count": 111,
     "metadata": {},
     "output_type": "execute_result"
    }
   ],
   "source": [
    "import Sudoku\n",
    "\n",
    "board1 = Sudoku.Sudoku(3)\n",
    "digitString = \"070000043040009610800634900094052000358460020000800530080070091902100005007040802\"\n",
    "board1.fillFromString(digitString)\n",
    "SimulatedAnnealing(board1)"
   ]
  },
  {
   "cell_type": "code",
   "execution_count": 18,
   "id": "a6e4c2cd",
   "metadata": {},
   "outputs": [
    {
     "name": "stdout",
     "output_type": "stream",
     "text": [
      "[1 0 2 3]\n"
     ]
    }
   ],
   "source": [
    "mask = np.array([True, False, True, True])\n",
    "poss_nums = np.array([1,2,3])\n",
    "expanded = np.zeros(mask.shape[0], dtype=int)\n",
    "expanded[mask] = poss_nums[:mask.sum()]\n",
    "print(expanded)"
   ]
  }
 ],
 "metadata": {
  "kernelspec": {
   "display_name": "sudoku_env",
   "language": "python",
   "name": "python3"
  },
  "language_info": {
   "codemirror_mode": {
    "name": "ipython",
    "version": 3
   },
   "file_extension": ".py",
   "mimetype": "text/x-python",
   "name": "python",
   "nbconvert_exporter": "python",
   "pygments_lexer": "ipython3",
   "version": "3.11.13"
  }
 },
 "nbformat": 4,
 "nbformat_minor": 5
}
